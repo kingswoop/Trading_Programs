{
 "metadata": {
  "language_info": {
   "codemirror_mode": {
    "name": "ipython",
    "version": 3
   },
   "file_extension": ".py",
   "mimetype": "text/x-python",
   "name": "python",
   "nbconvert_exporter": "python",
   "pygments_lexer": "ipython3",
   "version": "3.7.4-final"
  },
  "orig_nbformat": 2,
  "kernelspec": {
   "name": "python37464bitenvvenvdab420bf3a904a1ea5fdc4e4042a709f",
   "display_name": "Python 3.7.4 64-bit ('env': venv)"
  }
 },
 "nbformat": 4,
 "nbformat_minor": 2,
 "cells": [
  {
   "cell_type": "code",
   "execution_count": 17,
   "metadata": {
    "tags": []
   },
   "outputs": [
    {
     "output_type": "stream",
     "name": "stdout",
     "text": "Date\n2020-08-03    84.79\n2020-08-04    86.45\n2020-08-05    84.32\n2020-08-06    86.84\n2020-08-07    82.47\n2020-08-10    82.26\n2020-08-11    79.12\n2020-08-12    81.71\n2020-08-13    81.29\n2020-08-14    80.40\n2020-08-17    81.99\n2020-08-18    83.13\n2020-08-19    81.98\n2020-08-20    84.00\n2020-08-21    83.21\n2020-08-24    83.10\n2020-08-25    83.62\n2020-08-26    84.48\n2020-08-27    83.90\n2020-08-28    83.21\n2020-08-31    83.52\nName: Close, dtype: float64\n"
    }
   ],
   "source": [
    "import yfinance as yf\n",
    "import os \n",
    "import matplotlib\n",
    "from csv import reader\n",
    "\n",
    "ticker = 'ATVI'\n",
    "stock = yf.Ticker(ticker)\n",
    "# get stock info\n",
    "#info = stock.info\n",
    "#print(info)\n",
    "#stock_df = stock.history(period=\"max\")\n",
    "stock_df = stock.history()\n",
    "\n",
    "##PLOT\n",
    "#stock_df['Close'].plot(title= ticker + \" stock price\")\n",
    "\n",
    "##CLOSE\n",
    "price = stock_df['2020-08-31','Close']\n",
    "print(price)\n",
    "\n"
   ]
  }
 ]
}